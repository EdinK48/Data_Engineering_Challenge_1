{
 "cells": [
  {
   "cell_type": "markdown",
   "metadata": {},
   "source": [
    "# Email Validation\n",
    "- Please use this notebook to complete assignment two of the data engineering take home challenge.\n",
    "- The goal is to validate email addresses for all companies with `HIGH` buying intent.\n",
    "- Please sign up for a free account at AbstractAPI and use their API for email validation (https://docs.abstractapi.com/email-validation, the free account covers 100 email verifications, which should be plenty).\n",
    "- Your final output should be 2-column table (`email`,`is_email_valid`) and it should not take you longer than 1h to get there."
   ]
  },
  {
   "cell_type": "code",
   "execution_count": 26,
   "metadata": {},
   "outputs": [],
   "source": [
    "import duckdb\n",
    "con = duckdb.connect(\"../data/db_src.duckdb\")\n",
    "import requests\n",
    "import json\n",
    "import time\n"
   ]
  },
  {
   "cell_type": "code",
   "execution_count": 4,
   "metadata": {},
   "outputs": [],
   "source": [
    "validation_candidates = con.sql(\n",
    "    \"\"\"\n",
    "    select\n",
    "        co.email\n",
    "    from crm.contacts as co\n",
    "    left join crm.companies as c\n",
    "        on co.company_id = c.id\n",
    "    left join crm.customer_buying_intent as bi\n",
    "        on bi.company_id = c.id\n",
    "    where bi.buying_intent = 'HIGH'\n",
    "    \"\"\"\n",
    ").to_df()\n"
   ]
  },
  {
   "cell_type": "code",
   "execution_count": 16,
   "metadata": {},
   "outputs": [
    {
     "data": {
      "text/plain": [
       "['alvarado.alvarado@becker-moore.net',\n",
       " 'love.love@becker-moore.net',\n",
       " 'holloway.holloway@crawford.com',\n",
       " 'gillespie.gillespie@pena-schmidt.com',\n",
       " 'buck.buck@malone.com',\n",
       " 'lopez.lopez@malone.com',\n",
       " 'tucker.tucker@waters.com',\n",
       " 'lamb.lamb@waters.com',\n",
       " 'white.white@cummings.net',\n",
       " 'rodriguez.rodriguez@collins.com',\n",
       " 'williams.williams@brock.com']"
      ]
     },
     "execution_count": 16,
     "metadata": {},
     "output_type": "execute_result"
    }
   ],
   "source": [
    "email_list = validation_candidates.email.to_list()\n",
    "email_list"
   ]
  },
  {
   "cell_type": "code",
   "execution_count": 28,
   "metadata": {},
   "outputs": [],
   "source": [
    "# Please use the space below to express your email validation logic in python and write it back into the CRM database.\n",
    "url = \"https://emailvalidation.abstractapi.com/v1/?api_key=bc50abf0b3d7474fa781b22befb11a20&email=edin.kciku94@gmail.com\"\n",
    "# print(url.split(\"email=\"))\n",
    "base_url = url.split(\"email=\")[0] + \"email=\"\n",
    "\n",
    "def get_valid_email(email, base_url):\n",
    "    whole_url = base_url + email\n",
    "    response = requests.get(whole_url)\n",
    "    assert response.status_code == 200, f\"{response.status_code}\"\n",
    "    time.sleep(5)\n",
    "    json_str = response.content.decode('utf-8')\n",
    "    data = json.loads(json_str)\n",
    "    if data[\"deliverability\"] == \"DELIVERABLE\": \n",
    "        return True\n",
    "    else: \n",
    "        return False\n",
    "   \n",
    "\n",
    "is_email_valid = [get_valid_email(email, base_url) for email in email_list]\n",
    "\n"
   ]
  },
  {
   "cell_type": "code",
   "execution_count": 33,
   "metadata": {},
   "outputs": [],
   "source": [
    "validation_candidates[\"is_email_valid\"] = is_email_valid"
   ]
  },
  {
   "cell_type": "code",
   "execution_count": 35,
   "metadata": {},
   "outputs": [],
   "source": [
    "con.sql(\"create table crm.valid_emails as from validation_candidates\")\n"
   ]
  },
  {
   "cell_type": "code",
   "execution_count": 37,
   "metadata": {},
   "outputs": [],
   "source": [
    "con.close()"
   ]
  },
  {
   "cell_type": "code",
   "execution_count": null,
   "metadata": {},
   "outputs": [],
   "source": [
    "# Backup: In case you get stuck above, you can run this cell to import a list of validated email addresses from pre-made csv file\n",
    "con.sql(\"create table crm.valid_emails as from read_csv('data/valid_emails.csv')\")\n"
   ]
  }
 ],
 "metadata": {
  "kernelspec": {
   "display_name": "thc",
   "language": "python",
   "name": "python3"
  },
  "language_info": {
   "codemirror_mode": {
    "name": "ipython",
    "version": 3
   },
   "file_extension": ".py",
   "mimetype": "text/x-python",
   "name": "python",
   "nbconvert_exporter": "python",
   "pygments_lexer": "ipython3",
   "version": "3.10.5"
  }
 },
 "nbformat": 4,
 "nbformat_minor": 2
}
